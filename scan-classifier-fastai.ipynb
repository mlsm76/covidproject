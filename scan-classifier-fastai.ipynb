{
  "nbformat": 4,
  "nbformat_minor": 0,
  "metadata": {
    "jupytext": {
      "split_at_heading": true
    },
    "kernelspec": {
      "display_name": "Python 3",
      "language": "python",
      "name": "python3"
    },
    "colab": {
      "name": "02_production.ipynb",
      "provenance": [],
      "toc_visible": true,
      "machine_shape": "hm"
    },
    "accelerator": "GPU",
    "widgets": {
      "application/vnd.jupyter.widget-state+json": {
        "964def0bb2a54c119617a2aef182da5b": {
          "model_module": "@jupyter-widgets/controls",
          "model_name": "FileUploadModel",
          "state": {
            "_view_name": "FileUploadView",
            "_counter": 1,
            "style": "IPY_MODEL_bd81674335424a178a6ff3efdbd9bf28",
            "_dom_classes": [],
            "description": "Upload",
            "multiple": false,
            "_model_name": "FileUploadModel",
            "data": [
              null
            ],
            "button_style": "",
            "_view_module": "@jupyter-widgets/controls",
            "_model_module_version": "1.5.0",
            "accept": "",
            "_view_count": null,
            "disabled": false,
            "_view_module_version": "1.5.0",
            "error": "",
            "description_tooltip": null,
            "metadata": [
              {
                "name": "cov.jpg",
                "type": "image/jpeg",
                "size": 5087,
                "lastModified": 1611953592793
              }
            ],
            "_model_module": "@jupyter-widgets/controls",
            "layout": "IPY_MODEL_277da3acc7d64b00a4688b85bdf3306e",
            "icon": "upload"
          }
        },
        "bd81674335424a178a6ff3efdbd9bf28": {
          "model_module": "@jupyter-widgets/controls",
          "model_name": "ButtonStyleModel",
          "state": {
            "_view_name": "StyleView",
            "_model_name": "ButtonStyleModel",
            "_view_module": "@jupyter-widgets/base",
            "_model_module_version": "1.5.0",
            "_view_count": null,
            "button_color": null,
            "font_weight": "",
            "_view_module_version": "1.2.0",
            "_model_module": "@jupyter-widgets/controls"
          }
        },
        "277da3acc7d64b00a4688b85bdf3306e": {
          "model_module": "@jupyter-widgets/base",
          "model_name": "LayoutModel",
          "state": {
            "_view_name": "LayoutView",
            "grid_template_rows": null,
            "right": null,
            "justify_content": null,
            "_view_module": "@jupyter-widgets/base",
            "overflow": null,
            "_model_module_version": "1.2.0",
            "_view_count": null,
            "flex_flow": null,
            "width": null,
            "min_width": null,
            "border": null,
            "align_items": null,
            "bottom": null,
            "_model_module": "@jupyter-widgets/base",
            "top": null,
            "grid_column": null,
            "overflow_y": null,
            "overflow_x": null,
            "grid_auto_flow": null,
            "grid_area": null,
            "grid_template_columns": null,
            "flex": null,
            "_model_name": "LayoutModel",
            "justify_items": null,
            "grid_row": null,
            "max_height": null,
            "align_content": null,
            "visibility": null,
            "align_self": null,
            "height": null,
            "min_height": null,
            "padding": null,
            "grid_auto_rows": null,
            "grid_gap": null,
            "max_width": null,
            "order": null,
            "_view_module_version": "1.2.0",
            "grid_template_areas": null,
            "object_position": null,
            "object_fit": null,
            "grid_auto_columns": null,
            "margin": null,
            "display": null,
            "left": null
          }
        },
        "a776db6b371c4abe854f84fe8face099": {
          "model_module": "@jupyter-widgets/output",
          "model_name": "OutputModel",
          "state": {
            "_view_name": "OutputView",
            "msg_id": "",
            "_dom_classes": [],
            "_model_name": "OutputModel",
            "outputs": [
              {
                "output_type": "display_data",
                "metadata": {
                  "tags": []
                },
                "image/png": "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\n",
                "text/plain": "<PIL.Image.Image image mode=RGB size=128x96 at 0x7F860A824E80>"
              }
            ],
            "_view_module": "@jupyter-widgets/output",
            "_model_module_version": "1.0.0",
            "_view_count": null,
            "_view_module_version": "1.0.0",
            "layout": "IPY_MODEL_ad9259fde4084f49b73da1d25f3e30fb",
            "_model_module": "@jupyter-widgets/output"
          }
        },
        "ad9259fde4084f49b73da1d25f3e30fb": {
          "model_module": "@jupyter-widgets/base",
          "model_name": "LayoutModel",
          "state": {
            "_view_name": "LayoutView",
            "grid_template_rows": null,
            "right": null,
            "justify_content": null,
            "_view_module": "@jupyter-widgets/base",
            "overflow": null,
            "_model_module_version": "1.2.0",
            "_view_count": null,
            "flex_flow": null,
            "width": null,
            "min_width": null,
            "border": null,
            "align_items": null,
            "bottom": null,
            "_model_module": "@jupyter-widgets/base",
            "top": null,
            "grid_column": null,
            "overflow_y": null,
            "overflow_x": null,
            "grid_auto_flow": null,
            "grid_area": null,
            "grid_template_columns": null,
            "flex": null,
            "_model_name": "LayoutModel",
            "justify_items": null,
            "grid_row": null,
            "max_height": null,
            "align_content": null,
            "visibility": null,
            "align_self": null,
            "height": null,
            "min_height": null,
            "padding": null,
            "grid_auto_rows": null,
            "grid_gap": null,
            "max_width": null,
            "order": null,
            "_view_module_version": "1.2.0",
            "grid_template_areas": null,
            "object_position": null,
            "object_fit": null,
            "grid_auto_columns": null,
            "margin": null,
            "display": null,
            "left": null
          }
        },
        "79ecece999b64447ba290e9c79f76e15": {
          "model_module": "@jupyter-widgets/controls",
          "model_name": "LabelModel",
          "state": {
            "_view_name": "LabelView",
            "style": "IPY_MODEL_f8ff9c80022b4f9990d2c854bda84420",
            "_dom_classes": [],
            "description": "",
            "_model_name": "LabelModel",
            "placeholder": "​",
            "_view_module": "@jupyter-widgets/controls",
            "_model_module_version": "1.5.0",
            "value": "Prediction: covid; Probability: 1.0000",
            "_view_count": null,
            "_view_module_version": "1.5.0",
            "description_tooltip": null,
            "_model_module": "@jupyter-widgets/controls",
            "layout": "IPY_MODEL_e81f1c4f251047be8c5e69f2f19640da"
          }
        },
        "f8ff9c80022b4f9990d2c854bda84420": {
          "model_module": "@jupyter-widgets/controls",
          "model_name": "DescriptionStyleModel",
          "state": {
            "_view_name": "StyleView",
            "_model_name": "DescriptionStyleModel",
            "description_width": "",
            "_view_module": "@jupyter-widgets/base",
            "_model_module_version": "1.5.0",
            "_view_count": null,
            "_view_module_version": "1.2.0",
            "_model_module": "@jupyter-widgets/controls"
          }
        },
        "e81f1c4f251047be8c5e69f2f19640da": {
          "model_module": "@jupyter-widgets/base",
          "model_name": "LayoutModel",
          "state": {
            "_view_name": "LayoutView",
            "grid_template_rows": null,
            "right": null,
            "justify_content": null,
            "_view_module": "@jupyter-widgets/base",
            "overflow": null,
            "_model_module_version": "1.2.0",
            "_view_count": null,
            "flex_flow": null,
            "width": null,
            "min_width": null,
            "border": null,
            "align_items": null,
            "bottom": null,
            "_model_module": "@jupyter-widgets/base",
            "top": null,
            "grid_column": null,
            "overflow_y": null,
            "overflow_x": null,
            "grid_auto_flow": null,
            "grid_area": null,
            "grid_template_columns": null,
            "flex": null,
            "_model_name": "LayoutModel",
            "justify_items": null,
            "grid_row": null,
            "max_height": null,
            "align_content": null,
            "visibility": null,
            "align_self": null,
            "height": null,
            "min_height": null,
            "padding": null,
            "grid_auto_rows": null,
            "grid_gap": null,
            "max_width": null,
            "order": null,
            "_view_module_version": "1.2.0",
            "grid_template_areas": null,
            "object_position": null,
            "object_fit": null,
            "grid_auto_columns": null,
            "margin": null,
            "display": null,
            "left": null
          }
        },
        "dff25994b0ce41ceb0bf0ff819477331": {
          "model_module": "@jupyter-widgets/controls",
          "model_name": "ButtonModel",
          "state": {
            "_view_name": "ButtonView",
            "style": "IPY_MODEL_b78f5025869349aaabc0d06805027eb2",
            "_dom_classes": [],
            "description": "Classify",
            "_model_name": "ButtonModel",
            "button_style": "",
            "_view_module": "@jupyter-widgets/controls",
            "_model_module_version": "1.5.0",
            "tooltip": "",
            "_view_count": null,
            "disabled": false,
            "_view_module_version": "1.5.0",
            "layout": "IPY_MODEL_fb52bcefd72e4232ba5734f23e3966fb",
            "_model_module": "@jupyter-widgets/controls",
            "icon": ""
          }
        },
        "b78f5025869349aaabc0d06805027eb2": {
          "model_module": "@jupyter-widgets/controls",
          "model_name": "ButtonStyleModel",
          "state": {
            "_view_name": "StyleView",
            "_model_name": "ButtonStyleModel",
            "_view_module": "@jupyter-widgets/base",
            "_model_module_version": "1.5.0",
            "_view_count": null,
            "button_color": null,
            "font_weight": "",
            "_view_module_version": "1.2.0",
            "_model_module": "@jupyter-widgets/controls"
          }
        },
        "fb52bcefd72e4232ba5734f23e3966fb": {
          "model_module": "@jupyter-widgets/base",
          "model_name": "LayoutModel",
          "state": {
            "_view_name": "LayoutView",
            "grid_template_rows": null,
            "right": null,
            "justify_content": null,
            "_view_module": "@jupyter-widgets/base",
            "overflow": null,
            "_model_module_version": "1.2.0",
            "_view_count": null,
            "flex_flow": null,
            "width": null,
            "min_width": null,
            "border": null,
            "align_items": null,
            "bottom": null,
            "_model_module": "@jupyter-widgets/base",
            "top": null,
            "grid_column": null,
            "overflow_y": null,
            "overflow_x": null,
            "grid_auto_flow": null,
            "grid_area": null,
            "grid_template_columns": null,
            "flex": null,
            "_model_name": "LayoutModel",
            "justify_items": null,
            "grid_row": null,
            "max_height": null,
            "align_content": null,
            "visibility": null,
            "align_self": null,
            "height": null,
            "min_height": null,
            "padding": null,
            "grid_auto_rows": null,
            "grid_gap": null,
            "max_width": null,
            "order": null,
            "_view_module_version": "1.2.0",
            "grid_template_areas": null,
            "object_position": null,
            "object_fit": null,
            "grid_auto_columns": null,
            "margin": null,
            "display": null,
            "left": null
          }
        },
        "3792bc045ba14c8992320017c6aa434a": {
          "model_module": "@jupyter-widgets/controls",
          "model_name": "VBoxModel",
          "state": {
            "_view_name": "VBoxView",
            "_dom_classes": [],
            "_model_name": "VBoxModel",
            "_view_module": "@jupyter-widgets/controls",
            "_model_module_version": "1.5.0",
            "_view_count": null,
            "_view_module_version": "1.5.0",
            "box_style": "",
            "layout": "IPY_MODEL_9003204526fc41428a2e8a22e767d3dd",
            "_model_module": "@jupyter-widgets/controls",
            "children": [
              "IPY_MODEL_f62b1959662e40a68558bfa1244902db",
              "IPY_MODEL_cedbfbc330ba4419845ed4f58ebaca71",
              "IPY_MODEL_dff25994b0ce41ceb0bf0ff819477331",
              "IPY_MODEL_a776db6b371c4abe854f84fe8face099",
              "IPY_MODEL_79ecece999b64447ba290e9c79f76e15"
            ]
          }
        },
        "9003204526fc41428a2e8a22e767d3dd": {
          "model_module": "@jupyter-widgets/base",
          "model_name": "LayoutModel",
          "state": {
            "_view_name": "LayoutView",
            "grid_template_rows": null,
            "right": null,
            "justify_content": null,
            "_view_module": "@jupyter-widgets/base",
            "overflow": null,
            "_model_module_version": "1.2.0",
            "_view_count": null,
            "flex_flow": null,
            "width": null,
            "min_width": null,
            "border": null,
            "align_items": null,
            "bottom": null,
            "_model_module": "@jupyter-widgets/base",
            "top": null,
            "grid_column": null,
            "overflow_y": null,
            "overflow_x": null,
            "grid_auto_flow": null,
            "grid_area": null,
            "grid_template_columns": null,
            "flex": null,
            "_model_name": "LayoutModel",
            "justify_items": null,
            "grid_row": null,
            "max_height": null,
            "align_content": null,
            "visibility": null,
            "align_self": null,
            "height": null,
            "min_height": null,
            "padding": null,
            "grid_auto_rows": null,
            "grid_gap": null,
            "max_width": null,
            "order": null,
            "_view_module_version": "1.2.0",
            "grid_template_areas": null,
            "object_position": null,
            "object_fit": null,
            "grid_auto_columns": null,
            "margin": null,
            "display": null,
            "left": null
          }
        },
        "f62b1959662e40a68558bfa1244902db": {
          "model_module": "@jupyter-widgets/controls",
          "model_name": "LabelModel",
          "state": {
            "_view_name": "LabelView",
            "style": "IPY_MODEL_d3a8ad79c0c24a85ab936c3eb1311c4c",
            "_dom_classes": [],
            "description": "",
            "_model_name": "LabelModel",
            "placeholder": "​",
            "_view_module": "@jupyter-widgets/controls",
            "_model_module_version": "1.5.0",
            "value": "Select your lung scan",
            "_view_count": null,
            "_view_module_version": "1.5.0",
            "description_tooltip": null,
            "_model_module": "@jupyter-widgets/controls",
            "layout": "IPY_MODEL_c1d57d33f14540a1b0203b3a1ee2023a"
          }
        },
        "cedbfbc330ba4419845ed4f58ebaca71": {
          "model_module": "@jupyter-widgets/controls",
          "model_name": "FileUploadModel",
          "state": {
            "_view_name": "FileUploadView",
            "_counter": 1,
            "style": "IPY_MODEL_505518d826f449b19707ae23c37e67dd",
            "_dom_classes": [],
            "description": "Upload",
            "multiple": false,
            "_model_name": "FileUploadModel",
            "data": [
              null
            ],
            "button_style": "",
            "_view_module": "@jupyter-widgets/controls",
            "_model_module_version": "1.5.0",
            "accept": "",
            "_view_count": null,
            "disabled": false,
            "_view_module_version": "1.5.0",
            "error": "",
            "description_tooltip": null,
            "metadata": [
              {
                "name": "cov.jpg",
                "type": "image/jpeg",
                "size": 5087,
                "lastModified": 1611953592793
              }
            ],
            "_model_module": "@jupyter-widgets/controls",
            "layout": "IPY_MODEL_e4791239a98646959ae8952cb9d6cc6f",
            "icon": "upload"
          }
        },
        "d3a8ad79c0c24a85ab936c3eb1311c4c": {
          "model_module": "@jupyter-widgets/controls",
          "model_name": "DescriptionStyleModel",
          "state": {
            "_view_name": "StyleView",
            "_model_name": "DescriptionStyleModel",
            "description_width": "",
            "_view_module": "@jupyter-widgets/base",
            "_model_module_version": "1.5.0",
            "_view_count": null,
            "_view_module_version": "1.2.0",
            "_model_module": "@jupyter-widgets/controls"
          }
        },
        "c1d57d33f14540a1b0203b3a1ee2023a": {
          "model_module": "@jupyter-widgets/base",
          "model_name": "LayoutModel",
          "state": {
            "_view_name": "LayoutView",
            "grid_template_rows": null,
            "right": null,
            "justify_content": null,
            "_view_module": "@jupyter-widgets/base",
            "overflow": null,
            "_model_module_version": "1.2.0",
            "_view_count": null,
            "flex_flow": null,
            "width": null,
            "min_width": null,
            "border": null,
            "align_items": null,
            "bottom": null,
            "_model_module": "@jupyter-widgets/base",
            "top": null,
            "grid_column": null,
            "overflow_y": null,
            "overflow_x": null,
            "grid_auto_flow": null,
            "grid_area": null,
            "grid_template_columns": null,
            "flex": null,
            "_model_name": "LayoutModel",
            "justify_items": null,
            "grid_row": null,
            "max_height": null,
            "align_content": null,
            "visibility": null,
            "align_self": null,
            "height": null,
            "min_height": null,
            "padding": null,
            "grid_auto_rows": null,
            "grid_gap": null,
            "max_width": null,
            "order": null,
            "_view_module_version": "1.2.0",
            "grid_template_areas": null,
            "object_position": null,
            "object_fit": null,
            "grid_auto_columns": null,
            "margin": null,
            "display": null,
            "left": null
          }
        },
        "505518d826f449b19707ae23c37e67dd": {
          "model_module": "@jupyter-widgets/controls",
          "model_name": "ButtonStyleModel",
          "state": {
            "_view_name": "StyleView",
            "_model_name": "ButtonStyleModel",
            "_view_module": "@jupyter-widgets/base",
            "_model_module_version": "1.5.0",
            "_view_count": null,
            "button_color": null,
            "font_weight": "",
            "_view_module_version": "1.2.0",
            "_model_module": "@jupyter-widgets/controls"
          }
        },
        "e4791239a98646959ae8952cb9d6cc6f": {
          "model_module": "@jupyter-widgets/base",
          "model_name": "LayoutModel",
          "state": {
            "_view_name": "LayoutView",
            "grid_template_rows": null,
            "right": null,
            "justify_content": null,
            "_view_module": "@jupyter-widgets/base",
            "overflow": null,
            "_model_module_version": "1.2.0",
            "_view_count": null,
            "flex_flow": null,
            "width": null,
            "min_width": null,
            "border": null,
            "align_items": null,
            "bottom": null,
            "_model_module": "@jupyter-widgets/base",
            "top": null,
            "grid_column": null,
            "overflow_y": null,
            "overflow_x": null,
            "grid_auto_flow": null,
            "grid_area": null,
            "grid_template_columns": null,
            "flex": null,
            "_model_name": "LayoutModel",
            "justify_items": null,
            "grid_row": null,
            "max_height": null,
            "align_content": null,
            "visibility": null,
            "align_self": null,
            "height": null,
            "min_height": null,
            "padding": null,
            "grid_auto_rows": null,
            "grid_gap": null,
            "max_width": null,
            "order": null,
            "_view_module_version": "1.2.0",
            "grid_template_areas": null,
            "object_position": null,
            "object_fit": null,
            "grid_auto_columns": null,
            "margin": null,
            "display": null,
            "left": null
          }
        }
      }
    }
  },
  "cells": [
    {
      "cell_type": "code",
      "metadata": {
        "id": "XCEtz_7_oEi6"
      },
      "source": [
        "#hide\n",
        "!pip install -Uqq fastbook\n",
        "import fastbook\n",
        "fastbook.setup_book()"
      ],
      "execution_count": 1,
      "outputs": []
    },
    {
      "cell_type": "code",
      "metadata": {
        "id": "eEO1g98YoEjC"
      },
      "source": [
        "#hide\n",
        "from fastbook import *\n",
        "from fastai.vision.widgets import *"
      ],
      "execution_count": 2,
      "outputs": []
    },
    {
      "cell_type": "markdown",
      "metadata": {
        "id": "B5_tfjNvoEjE"
      },
      "source": [
        "[[chapter_production]]"
      ]
    },
    {
      "cell_type": "code",
      "metadata": {
        "id": "PscmU_I2oEjY"
      },
      "source": [
        "scan_types = 'normal','viral','covid'\n",
        "path = Path('/content/gdrive/MyDrive/deeplearning/covid-scans/torch')"
      ],
      "execution_count": 3,
      "outputs": []
    },
    {
      "cell_type": "markdown",
      "metadata": {
        "id": "KmHfHpteoEjZ"
      },
      "source": [
        "Our folder has image files, as we'd expect:"
      ]
    },
    {
      "cell_type": "code",
      "metadata": {
        "id": "RYiO6yTvoEjZ",
        "outputId": "330656d4-cb76-44be-910d-2fa7fcde6c43",
        "colab": {
          "base_uri": "https://localhost:8080/"
        }
      },
      "source": [
        "fns = get_image_files(path)\n",
        "fns"
      ],
      "execution_count": 4,
      "outputs": [
        {
          "output_type": "execute_result",
          "data": {
            "text/plain": [
              "(#13671) [Path('/content/gdrive/MyDrive/deeplearning/covid-scans/torch/covid/1-s2.0-S1931312820301852-gr1_lrg-c.png'),Path('/content/gdrive/MyDrive/deeplearning/covid-scans/torch/covid/1-s2.0-S0929664620300449-gr2_lrg-d.jpg'),Path('/content/gdrive/MyDrive/deeplearning/covid-scans/torch/covid/1-s2.0-S0378603X1500248X-gr2c.jpg'),Path('/content/gdrive/MyDrive/deeplearning/covid-scans/torch/covid/1-s2.0-S0378603X1500248X-gr4e.jpg'),Path('/content/gdrive/MyDrive/deeplearning/covid-scans/torch/covid/1-s2.0-S1684118220300682-main.pdf-003-b2.png'),Path('/content/gdrive/MyDrive/deeplearning/covid-scans/torch/covid/1-s2.0-S0378603X1500248X-gr2a.jpg'),Path('/content/gdrive/MyDrive/deeplearning/covid-scans/torch/covid/1-s2.0-S0929664620300449-gr2_lrg-b.jpg'),Path('/content/gdrive/MyDrive/deeplearning/covid-scans/torch/covid/1-s2.0-S1931312820301852-gr1_lrg-a.png'),Path('/content/gdrive/MyDrive/deeplearning/covid-scans/torch/covid/1-s2.0-S0378603X1500248X-gr4c.jpg'),Path('/content/gdrive/MyDrive/deeplearning/covid-scans/torch/covid/1-s2.0-S2214250920300706-gr5_lrg.jpg')...]"
            ]
          },
          "metadata": {
            "tags": []
          },
          "execution_count": 4
        }
      ]
    },
    {
      "cell_type": "markdown",
      "metadata": {
        "id": "pfXZatzroEja"
      },
      "source": [
        "Often when we download files from the internet, there are a few that are corrupt. Let's check:"
      ]
    },
    {
      "cell_type": "code",
      "metadata": {
        "id": "eEBucLb_oEja",
        "outputId": "bc061bd7-2a0a-4920-8188-8d33d8da72cc",
        "colab": {
          "base_uri": "https://localhost:8080/"
        }
      },
      "source": [
        "failed = verify_images(fns)\n",
        "failed"
      ],
      "execution_count": 5,
      "outputs": [
        {
          "output_type": "execute_result",
          "data": {
            "text/plain": [
              "(#0) []"
            ]
          },
          "metadata": {
            "tags": []
          },
          "execution_count": 5
        }
      ]
    },
    {
      "cell_type": "markdown",
      "metadata": {
        "id": "3oWdfWRjoEja"
      },
      "source": [
        "To remove all the failed images, you can use `unlink` on each of them. Note that, like most fastai functions that return a collection, `verify_images` returns an object of type `L`, which includes the `map` method. This calls the passed function on each element of the collection:"
      ]
    },
    {
      "cell_type": "code",
      "metadata": {
        "id": "8tussqiUoEjb"
      },
      "source": [
        "failed.map(Path.unlink);"
      ],
      "execution_count": 6,
      "outputs": []
    },
    {
      "cell_type": "markdown",
      "metadata": {
        "id": "uHiMDimRoEjb"
      },
      "source": [
        "### Sidebar: Getting Help in Jupyter Notebooks"
      ]
    },
    {
      "cell_type": "markdown",
      "metadata": {
        "id": "27uhtCDJoEjc"
      },
      "source": [
        "## From Data to DataLoaders"
      ]
    },
    {
      "cell_type": "code",
      "metadata": {
        "id": "P6yx2f3coEjd"
      },
      "source": [
        "scans = DataBlock(\n",
        "    blocks=(ImageBlock, CategoryBlock), \n",
        "    get_items=get_image_files, \n",
        "    splitter=RandomSplitter(valid_pct=0.2, seed=42),\n",
        "    get_y=parent_label,\n",
        "    item_tfms=Resize(128))"
      ],
      "execution_count": 7,
      "outputs": []
    },
    {
      "cell_type": "code",
      "metadata": {
        "id": "WxFr4bVwoEjl"
      },
      "source": [
        "scans = scans.new(\n",
        "    item_tfms=RandomResizedCrop(224, min_scale=0.5),\n",
        "    batch_tfms=aug_transforms())\n",
        "dls = scans.dataloaders(path)"
      ],
      "execution_count": 8,
      "outputs": []
    },
    {
      "cell_type": "code",
      "metadata": {
        "id": "_6QWg0F9oEjm",
        "outputId": "016c3e69-ae4c-49f6-b2fd-f84166ec84fd",
        "colab": {
          "base_uri": "https://localhost:8080/",
          "height": 409
        }
      },
      "source": [
        "learn = cnn_learner(dls, resnet18, metrics=error_rate)\n",
        "learn.fine_tune(10)"
      ],
      "execution_count": 9,
      "outputs": [
        {
          "output_type": "display_data",
          "data": {
            "text/html": [
              "<table border=\"1\" class=\"dataframe\">\n",
              "  <thead>\n",
              "    <tr style=\"text-align: left;\">\n",
              "      <th>epoch</th>\n",
              "      <th>train_loss</th>\n",
              "      <th>valid_loss</th>\n",
              "      <th>error_rate</th>\n",
              "      <th>time</th>\n",
              "    </tr>\n",
              "  </thead>\n",
              "  <tbody>\n",
              "    <tr>\n",
              "      <td>0</td>\n",
              "      <td>0.710961</td>\n",
              "      <td>0.275092</td>\n",
              "      <td>0.079371</td>\n",
              "      <td>02:21</td>\n",
              "    </tr>\n",
              "  </tbody>\n",
              "</table>"
            ],
            "text/plain": [
              "<IPython.core.display.HTML object>"
            ]
          },
          "metadata": {
            "tags": []
          }
        },
        {
          "output_type": "display_data",
          "data": {
            "text/html": [
              "<table border=\"1\" class=\"dataframe\">\n",
              "  <thead>\n",
              "    <tr style=\"text-align: left;\">\n",
              "      <th>epoch</th>\n",
              "      <th>train_loss</th>\n",
              "      <th>valid_loss</th>\n",
              "      <th>error_rate</th>\n",
              "      <th>time</th>\n",
              "    </tr>\n",
              "  </thead>\n",
              "  <tbody>\n",
              "    <tr>\n",
              "      <td>0</td>\n",
              "      <td>0.269441</td>\n",
              "      <td>0.176659</td>\n",
              "      <td>0.052670</td>\n",
              "      <td>02:22</td>\n",
              "    </tr>\n",
              "    <tr>\n",
              "      <td>1</td>\n",
              "      <td>0.185011</td>\n",
              "      <td>0.186443</td>\n",
              "      <td>0.047915</td>\n",
              "      <td>02:22</td>\n",
              "    </tr>\n",
              "    <tr>\n",
              "      <td>2</td>\n",
              "      <td>0.152412</td>\n",
              "      <td>0.127717</td>\n",
              "      <td>0.039503</td>\n",
              "      <td>02:23</td>\n",
              "    </tr>\n",
              "    <tr>\n",
              "      <td>3</td>\n",
              "      <td>0.137245</td>\n",
              "      <td>0.097382</td>\n",
              "      <td>0.029993</td>\n",
              "      <td>02:22</td>\n",
              "    </tr>\n",
              "    <tr>\n",
              "      <td>4</td>\n",
              "      <td>0.108716</td>\n",
              "      <td>0.119932</td>\n",
              "      <td>0.035113</td>\n",
              "      <td>02:22</td>\n",
              "    </tr>\n",
              "    <tr>\n",
              "      <td>5</td>\n",
              "      <td>0.094385</td>\n",
              "      <td>0.070428</td>\n",
              "      <td>0.023409</td>\n",
              "      <td>02:23</td>\n",
              "    </tr>\n",
              "    <tr>\n",
              "      <td>6</td>\n",
              "      <td>0.074294</td>\n",
              "      <td>0.051441</td>\n",
              "      <td>0.016094</td>\n",
              "      <td>02:22</td>\n",
              "    </tr>\n",
              "    <tr>\n",
              "      <td>7</td>\n",
              "      <td>0.073540</td>\n",
              "      <td>0.053829</td>\n",
              "      <td>0.016825</td>\n",
              "      <td>02:22</td>\n",
              "    </tr>\n",
              "    <tr>\n",
              "      <td>8</td>\n",
              "      <td>0.053348</td>\n",
              "      <td>0.053810</td>\n",
              "      <td>0.017557</td>\n",
              "      <td>02:23</td>\n",
              "    </tr>\n",
              "    <tr>\n",
              "      <td>9</td>\n",
              "      <td>0.051864</td>\n",
              "      <td>0.046074</td>\n",
              "      <td>0.014996</td>\n",
              "      <td>02:22</td>\n",
              "    </tr>\n",
              "  </tbody>\n",
              "</table>"
            ],
            "text/plain": [
              "<IPython.core.display.HTML object>"
            ]
          },
          "metadata": {
            "tags": []
          }
        }
      ]
    },
    {
      "cell_type": "code",
      "metadata": {
        "id": "tcRb4mDooEjm",
        "outputId": "4317acb8-bdc9-4fb6-f618-0aa0de2d8e3b",
        "colab": {
          "base_uri": "https://localhost:8080/",
          "height": 311
        }
      },
      "source": [
        "interp = ClassificationInterpretation.from_learner(learn)\n",
        "interp.plot_confusion_matrix()"
      ],
      "execution_count": 10,
      "outputs": [
        {
          "output_type": "display_data",
          "data": {
            "text/html": [
              ""
            ],
            "text/plain": [
              "<IPython.core.display.HTML object>"
            ]
          },
          "metadata": {
            "tags": []
          }
        },
        {
          "output_type": "display_data",
          "data": {
            "image/png": "[encoded data removed]",
            "text/plain": [
              "<Figure size 432x288 with 1 Axes>"
            ]
          },
          "metadata": {
            "tags": [],
            "needs_background": "light"
          }
        }
      ]
    },
    {
      "cell_type": "code",
      "metadata": {
        "id": "flOoflBXoEjn",
        "outputId": "296bf671-378a-4514-e8aa-31cd3144f872",
        "colab": {
          "base_uri": "https://localhost:8080/",
          "height": 206
        }
      },
      "source": [
        "interp.plot_top_losses(5, nrows=1)"
      ],
      "execution_count": 11,
      "outputs": [
        {
          "output_type": "display_data",
          "data": {
            "image/png": "[encoded data removed]",
            "text/plain": [
              "<Figure size 1080x216 with 5 Axes>"
            ]
          },
          "metadata": {
            "tags": [],
            "needs_background": "light"
          }
        }
      ]
    },
    {
      "cell_type": "code",
      "metadata": {
        "id": "FyHRPb_8oEjn"
      },
      "source": [
        "#hide_output\n",
        "#cleaner = ImageClassifierCleaner(learn)\n",
        "#leaner"
      ],
      "execution_count": 12,
      "outputs": []
    },
    {
      "cell_type": "code",
      "metadata": {
        "id": "pwGMwrPZoEjo"
      },
      "source": [
        "#hide\n",
        "# for idx in cleaner.delete(): cleaner.fns[idx].unlink()\n",
        "# for idx,cat in cleaner.change(): shutil.move(str(cleaner.fns[idx]), path/cat)"
      ],
      "execution_count": 13,
      "outputs": []
    },
    {
      "cell_type": "markdown",
      "metadata": {
        "id": "TFqIjOmVoEjo"
      },
      "source": [
        "## Turning Your Model into an Online Application"
      ]
    },
    {
      "cell_type": "markdown",
      "metadata": {
        "id": "y7bGvUdIoEjp"
      },
      "source": [
        "### Using the Model for Inference"
      ]
    },
    {
      "cell_type": "code",
      "metadata": {
        "id": "yFLb-JmjoEjp"
      },
      "source": [
        "learn.export()"
      ],
      "execution_count": 14,
      "outputs": []
    },
    {
      "cell_type": "markdown",
      "metadata": {
        "id": "QajuN0ycoEjp"
      },
      "source": [
        "Let's check that the file exists, by using the `ls` method that fastai adds to Python's `Path` class:"
      ]
    },
    {
      "cell_type": "code",
      "metadata": {
        "id": "GaFHjeiAoEjq",
        "outputId": "316c8a7d-d89a-4115-d2ef-54c19ee68815",
        "colab": {
          "base_uri": "https://localhost:8080/"
        }
      },
      "source": [
        "path = Path()\n",
        "path.ls(file_exts='.pkl')"
      ],
      "execution_count": 15,
      "outputs": [
        {
          "output_type": "execute_result",
          "data": {
            "text/plain": [
              "(#1) [Path('export.pkl')]"
            ]
          },
          "metadata": {
            "tags": []
          },
          "execution_count": 15
        }
      ]
    },
    {
      "cell_type": "markdown",
      "metadata": {
        "id": "TMJq5A-xoEjq"
      },
      "source": [
        "You'll need this file wherever you deploy your app to. For now, let's try to create a simple app within our notebook.\n",
        "\n",
        "When we use a model for getting predictions, instead of training, we call it *inference*. To create our inference learner from the exported file, we use `load_learner` (in this case, this isn't really necessary, since we already have a working `Learner` in our notebook; we're just doing it here so you can see the whole process end-to-end):"
      ]
    },
    {
      "cell_type": "code",
      "metadata": {
        "id": "-l1qm85poEjq"
      },
      "source": [
        "learn_inf = load_learner('export.pkl')"
      ],
      "execution_count": 18,
      "outputs": []
    },
    {
      "cell_type": "markdown",
      "metadata": {
        "id": "aczGjqRgoEjq"
      },
      "source": [
        "When we're doing inference, we're generally just getting predictions for one image at a time. To do this, pass a filename to `predict`:"
      ]
    },
    {
      "cell_type": "code",
      "metadata": {
        "id": "kBKrhpRPoEjr",
        "outputId": "b477265a-274c-418a-ccc0-f31ff48bf184",
        "colab": {
          "base_uri": "https://localhost:8080/",
          "height": 35
        }
      },
      "source": [
        "learn_inf.predict('/content/gdrive/MyDrive/deeplearning/cov.jpg')"
      ],
      "execution_count": 19,
      "outputs": [
        {
          "output_type": "display_data",
          "data": {
            "text/html": [
              ""
            ],
            "text/plain": [
              "<IPython.core.display.HTML object>"
            ]
          },
          "metadata": {
            "tags": []
          }
        },
        {
          "output_type": "execute_result",
          "data": {
            "text/plain": [
              "('covid', tensor(0), tensor([1.0000e+00, 3.6391e-07, 5.5377e-07]))"
            ]
          },
          "metadata": {
            "tags": []
          },
          "execution_count": 19
        }
      ]
    },
    {
      "cell_type": "markdown",
      "metadata": {
        "id": "Ah3FVWfmoEjr"
      },
      "source": [
        "This has returned three things: the predicted category in the same format you originally provided (in this case that's a string), the index of the predicted category, and the probabilities of each category. The last two are based on the order of categories in the *vocab* of the `DataLoaders`; that is, the stored list of all possible categories. At inference time, you can access the `DataLoaders` as an attribute of the `Learner`:"
      ]
    },
    {
      "cell_type": "code",
      "metadata": {
        "id": "VYT0dav5oEjr",
        "outputId": "c2e3e9b4-55a0-429e-a10e-9950871fe57a",
        "colab": {
          "base_uri": "https://localhost:8080/"
        }
      },
      "source": [
        "learn_inf.dls.vocab"
      ],
      "execution_count": 20,
      "outputs": [
        {
          "output_type": "execute_result",
          "data": {
            "text/plain": [
              "['covid', 'normal', 'viral']"
            ]
          },
          "metadata": {
            "tags": []
          },
          "execution_count": 20
        }
      ]
    },
    {
      "cell_type": "markdown",
      "metadata": {
        "id": "wuSAW-cwoEjs"
      },
      "source": [
        "### Creating a Notebook App from the Model"
      ]
    },
    {
      "cell_type": "code",
      "metadata": {
        "id": "qaHnAtePoEjs",
        "outputId": "167532d9-b6cc-4020-cddb-7af7ce71037d",
        "colab": {
          "base_uri": "https://localhost:8080/",
          "height": 49,
          "referenced_widgets": [
            "964def0bb2a54c119617a2aef182da5b",
            "bd81674335424a178a6ff3efdbd9bf28",
            "277da3acc7d64b00a4688b85bdf3306e"
          ]
        }
      },
      "source": [
        "#hide_output\n",
        "btn_upload = widgets.FileUpload()\n",
        "btn_upload"
      ],
      "execution_count": 21,
      "outputs": [
        {
          "output_type": "display_data",
          "data": {
            "application/vnd.jupyter.widget-view+json": {
              "model_id": "964def0bb2a54c119617a2aef182da5b",
              "version_minor": 0,
              "version_major": 2
            },
            "text/plain": [
              "FileUpload(value={}, description='Upload')"
            ]
          },
          "metadata": {
            "tags": []
          }
        }
      ]
    },
    {
      "cell_type": "markdown",
      "metadata": {
        "id": "D_XT6oRVoEjt"
      },
      "source": [
        "<img alt=\"An upload button\" width=\"159\" src=\"https://github.com/fastai/fastbook/blob/master/images/att_00008.png?raw=1\">\n",
        "\n",
        "Now we can grab the image:"
      ]
    },
    {
      "cell_type": "code",
      "metadata": {
        "hide_input": true,
        "id": "DW8t7-DLoEjt"
      },
      "source": [
        "#hide\n",
        "# For the book, we can't actually click an upload button, so we fake it\n",
        "btn_upload = SimpleNamespace(data = ['/content/gdrive/MyDrive/deeplearning/cov.jpg'])"
      ],
      "execution_count": 24,
      "outputs": []
    },
    {
      "cell_type": "code",
      "metadata": {
        "id": "GFbrkJo5oEjt"
      },
      "source": [
        "img = PILImage.create(btn_upload.data[-1])"
      ],
      "execution_count": 25,
      "outputs": []
    },
    {
      "cell_type": "markdown",
      "metadata": {
        "id": "BfjV8FILoEjt"
      },
      "source": [
        "We can use an `Output` widget to display it:"
      ]
    },
    {
      "cell_type": "code",
      "metadata": {
        "id": "TchCD2MXoEju",
        "outputId": "0635520d-e86d-4de4-ae2a-2f0408cc4713",
        "colab": {
          "base_uri": "https://localhost:8080/",
          "height": 113,
          "referenced_widgets": [
            "a776db6b371c4abe854f84fe8face099",
            "ad9259fde4084f49b73da1d25f3e30fb"
          ]
        }
      },
      "source": [
        "#hide_output\n",
        "out_pl = widgets.Output()\n",
        "out_pl.clear_output()\n",
        "with out_pl: display(img.to_thumb(128,128))\n",
        "out_pl"
      ],
      "execution_count": 26,
      "outputs": [
        {
          "output_type": "display_data",
          "data": {
            "application/vnd.jupyter.widget-view+json": {
              "model_id": "a776db6b371c4abe854f84fe8face099",
              "version_minor": 0,
              "version_major": 2
            },
            "text/plain": [
              "Output()"
            ]
          },
          "metadata": {
            "tags": []
          }
        }
      ]
    },
    {
      "cell_type": "code",
      "metadata": {
        "id": "9HV77ExdoEju",
        "outputId": "a269842e-810d-4620-83b1-c1cf5ec8d9e4",
        "colab": {
          "base_uri": "https://localhost:8080/",
          "height": 17
        }
      },
      "source": [
        "pred,pred_idx,probs = learn_inf.predict(img)"
      ],
      "execution_count": 27,
      "outputs": [
        {
          "output_type": "display_data",
          "data": {
            "text/html": [
              ""
            ],
            "text/plain": [
              "<IPython.core.display.HTML object>"
            ]
          },
          "metadata": {
            "tags": []
          }
        }
      ]
    },
    {
      "cell_type": "markdown",
      "metadata": {
        "id": "eKLzTakKoEju"
      },
      "source": [
        "and use a `Label` to display them:"
      ]
    },
    {
      "cell_type": "code",
      "metadata": {
        "id": "vnHIFpJ2oEjv",
        "outputId": "9eaf7af8-c78b-4c54-cc59-952a9e3d157e",
        "colab": {
          "base_uri": "https://localhost:8080/",
          "height": 48,
          "referenced_widgets": [
            "79ecece999b64447ba290e9c79f76e15",
            "f8ff9c80022b4f9990d2c854bda84420",
            "e81f1c4f251047be8c5e69f2f19640da"
          ]
        }
      },
      "source": [
        "#hide_output\n",
        "lbl_pred = widgets.Label()\n",
        "lbl_pred.value = f'Prediction: {pred}; Probability: {probs[pred_idx]:.04f}'\n",
        "lbl_pred"
      ],
      "execution_count": 28,
      "outputs": [
        {
          "output_type": "display_data",
          "data": {
            "application/vnd.jupyter.widget-view+json": {
              "model_id": "79ecece999b64447ba290e9c79f76e15",
              "version_minor": 0,
              "version_major": 2
            },
            "text/plain": [
              "Label(value='Prediction: covid; Probability: 1.0000')"
            ]
          },
          "metadata": {
            "tags": []
          }
        }
      ]
    },
    {
      "cell_type": "markdown",
      "metadata": {
        "id": "efvrip4PoEjv"
      },
      "source": [
        "`Prediction: grizzly; Probability: 1.0000`\n",
        "\n",
        "We'll need a button to do the classification. It looks exactly like the upload button:"
      ]
    },
    {
      "cell_type": "code",
      "metadata": {
        "id": "KwVmDx4FoEjv",
        "outputId": "9d77f974-e78a-4d9d-e84b-5f5fc7904b0c",
        "colab": {
          "base_uri": "https://localhost:8080/",
          "height": 49,
          "referenced_widgets": [
            "dff25994b0ce41ceb0bf0ff819477331",
            "b78f5025869349aaabc0d06805027eb2",
            "fb52bcefd72e4232ba5734f23e3966fb"
          ]
        }
      },
      "source": [
        "#hide_output\n",
        "btn_run = widgets.Button(description='Classify')\n",
        "btn_run"
      ],
      "execution_count": 29,
      "outputs": [
        {
          "output_type": "display_data",
          "data": {
            "application/vnd.jupyter.widget-view+json": {
              "model_id": "dff25994b0ce41ceb0bf0ff819477331",
              "version_minor": 0,
              "version_major": 2
            },
            "text/plain": [
              "Button(description='Classify', style=ButtonStyle())"
            ]
          },
          "metadata": {
            "tags": []
          }
        }
      ]
    },
    {
      "cell_type": "markdown",
      "metadata": {
        "id": "HPYpiG03oEjv"
      },
      "source": [
        "We'll also need a *click event handler*; that is, a function that will be called when it's pressed. We can just copy over the lines of code from above:"
      ]
    },
    {
      "cell_type": "code",
      "metadata": {
        "id": "O279onEZoEjw"
      },
      "source": [
        "def on_click_classify(change):\n",
        "    img = PILImage.create(btn_upload.data[-1])\n",
        "    out_pl.clear_output()\n",
        "    with out_pl: display(img.to_thumb(128,128))\n",
        "    pred,pred_idx,probs = learn_inf.predict(img)\n",
        "    lbl_pred.value = f'Prediction: {pred}; Probability: {probs[pred_idx]:.04f}'\n",
        "\n",
        "btn_run.on_click(on_click_classify)"
      ],
      "execution_count": 30,
      "outputs": []
    },
    {
      "cell_type": "markdown",
      "metadata": {
        "id": "pHGPs0ThoEjw"
      },
      "source": [
        "You can test the button now by pressing it, and you should see the image and predictions update automatically!\n",
        "\n",
        "We can now put them all in a vertical box (`VBox`) to complete our GUI:"
      ]
    },
    {
      "cell_type": "code",
      "metadata": {
        "id": "WGyZ_WhLoEjw"
      },
      "source": [
        "#hide\n",
        "#Putting back btn_upload to a widget for next cell\n",
        "btn_upload = widgets.FileUpload()"
      ],
      "execution_count": 31,
      "outputs": []
    },
    {
      "cell_type": "code",
      "metadata": {
        "id": "PqvwAM7QoEjw",
        "outputId": "55c91f4f-fde1-482d-c869-b70107f3e767",
        "colab": {
          "base_uri": "https://localhost:8080/",
          "height": 241,
          "referenced_widgets": [
            "3792bc045ba14c8992320017c6aa434a",
            "9003204526fc41428a2e8a22e767d3dd",
            "f62b1959662e40a68558bfa1244902db",
            "cedbfbc330ba4419845ed4f58ebaca71",
            "dff25994b0ce41ceb0bf0ff819477331",
            "a776db6b371c4abe854f84fe8face099",
            "79ecece999b64447ba290e9c79f76e15",
            "d3a8ad79c0c24a85ab936c3eb1311c4c",
            "c1d57d33f14540a1b0203b3a1ee2023a",
            "505518d826f449b19707ae23c37e67dd",
            "e4791239a98646959ae8952cb9d6cc6f",
            "b78f5025869349aaabc0d06805027eb2",
            "fb52bcefd72e4232ba5734f23e3966fb",
            "f8ff9c80022b4f9990d2c854bda84420",
            "e81f1c4f251047be8c5e69f2f19640da",
            "ad9259fde4084f49b73da1d25f3e30fb"
          ]
        }
      },
      "source": [
        "#hide_output\n",
        "VBox([widgets.Label('Select your lung scan'), \n",
        "      btn_upload, btn_run, out_pl, lbl_pred])"
      ],
      "execution_count": 32,
      "outputs": [
        {
          "output_type": "display_data",
          "data": {
            "application/vnd.jupyter.widget-view+json": {
              "model_id": "3792bc045ba14c8992320017c6aa434a",
              "version_minor": 0,
              "version_major": 2
            },
            "text/plain": [
              "VBox(children=(Label(value='Select your lung scan'), FileUpload(value={}, description='Upload'), Button(descri…"
            ]
          },
          "metadata": {
            "tags": []
          }
        },
        {
          "output_type": "display_data",
          "data": {
            "text/html": [
              ""
            ],
            "text/plain": [
              "<IPython.core.display.HTML object>"
            ]
          },
          "metadata": {
            "tags": []
          }
        }
      ]
    },
    {
      "cell_type": "markdown",
      "metadata": {
        "id": "I4geKFqLoEjx"
      },
      "source": [
        "### Turning Your Notebook into a Real App"
      ]
    },
    {
      "cell_type": "code",
      "metadata": {
        "id": "Dt3w2vsfoEjx",
        "outputId": "4afbe79d-bee0-41f4-971c-27902a0a1527",
        "colab": {
          "base_uri": "https://localhost:8080/",
          "height": 1000
        }
      },
      "source": [
        "#hide\n",
        "!pip install voila\n",
        "!jupyter serverextension enable --sys-prefix voila "
      ],
      "execution_count": 33,
      "outputs": [
        {
          "output_type": "stream",
          "text": [
            "Collecting voila\n",
            "\u001b[?25l  Downloading https://files.pythonhosted.org/packages/4e/3d/7a669360baf7f9cb3e327b4ec47f56a5e04c102c6c524c07a5dff2fa8552/voila-0.2.6-py3-none-any.whl (1.9MB)\n",
            "\u001b[K     |████████████████████████████████| 1.9MB 8.4MB/s \n",
            "\u001b[?25hRequirement already satisfied: nbclient<0.6,>=0.4.0 in /usr/local/lib/python3.6/dist-packages (from voila) (0.5.1)\n",
            "Collecting nbconvert<7,>=6.0.0\n",
            "\u001b[?25l  Downloading https://files.pythonhosted.org/packages/13/2f/acbe7006548f3914456ee47f97a2033b1b2f3daf921b12ac94105d87c163/nbconvert-6.0.7-py3-none-any.whl (552kB)\n",
            "\u001b[K     |████████████████████████████████| 552kB 43.9MB/s \n",
            "\u001b[?25hCollecting jupyter-client<7,>=6.1.3\n",
            "\u001b[?25l  Downloading https://files.pythonhosted.org/packages/83/d6/30aed7ef13ff3f359e99626c1b0a32ebbc3bf9b9d5616ec46e9e245d5fa9/jupyter_client-6.1.11-py3-none-any.whl (108kB)\n",
            "\u001b[K     |████████████████████████████████| 112kB 48.9MB/s \n",
            "\u001b[?25hCollecting jupyter-server<2.0.0,>=0.3.0\n",
            "\u001b[?25l  Downloading https://files.pythonhosted.org/packages/9f/fc/a28a6b99faa75fefd4399d14903030b45b0705a37d2aba7ccfdb14c5b8b7/jupyter_server-1.2.2-py3-none-any.whl (184kB)\n",
            "\u001b[K     |████████████████████████████████| 194kB 45.8MB/s \n",
            "\u001b[?25hRequirement already satisfied: nbformat>=5.0 in /usr/local/lib/python3.6/dist-packages (from nbclient<0.6,>=0.4.0->voila) (5.1.2)\n",
            "Requirement already satisfied: async-generator in /usr/local/lib/python3.6/dist-packages (from nbclient<0.6,>=0.4.0->voila) (1.10)\n",
            "Requirement already satisfied: nest-asyncio in /usr/local/lib/python3.6/dist-packages (from nbclient<0.6,>=0.4.0->voila) (1.5.1)\n",
            "Requirement already satisfied: traitlets>=4.2 in /usr/local/lib/python3.6/dist-packages (from nbclient<0.6,>=0.4.0->voila) (4.3.3)\n",
            "Requirement already satisfied: defusedxml in /usr/local/lib/python3.6/dist-packages (from nbconvert<7,>=6.0.0->voila) (0.6.0)\n",
            "Requirement already satisfied: mistune<2,>=0.8.1 in /usr/local/lib/python3.6/dist-packages (from nbconvert<7,>=6.0.0->voila) (0.8.4)\n",
            "Requirement already satisfied: pygments>=2.4.1 in /usr/local/lib/python3.6/dist-packages (from nbconvert<7,>=6.0.0->voila) (2.6.1)\n",
            "Requirement already satisfied: jupyterlab-pygments in /usr/local/lib/python3.6/dist-packages (from nbconvert<7,>=6.0.0->voila) (0.1.2)\n",
            "Requirement already satisfied: jupyter-core in /usr/local/lib/python3.6/dist-packages (from nbconvert<7,>=6.0.0->voila) (4.7.0)\n",
            "Requirement already satisfied: pandocfilters>=1.4.1 in /usr/local/lib/python3.6/dist-packages (from nbconvert<7,>=6.0.0->voila) (1.4.3)\n",
            "Requirement already satisfied: bleach in /usr/local/lib/python3.6/dist-packages (from nbconvert<7,>=6.0.0->voila) (3.2.3)\n",
            "Requirement already satisfied: jinja2>=2.4 in /usr/local/lib/python3.6/dist-packages (from nbconvert<7,>=6.0.0->voila) (2.11.2)\n",
            "Requirement already satisfied: testpath in /usr/local/lib/python3.6/dist-packages (from nbconvert<7,>=6.0.0->voila) (0.4.4)\n",
            "Requirement already satisfied: entrypoints>=0.2.2 in /usr/local/lib/python3.6/dist-packages (from nbconvert<7,>=6.0.0->voila) (0.3)\n",
            "Requirement already satisfied: pyzmq>=13 in /usr/local/lib/python3.6/dist-packages (from jupyter-client<7,>=6.1.3->voila) (21.0.2)\n",
            "Requirement already satisfied: tornado>=4.1 in /usr/local/lib/python3.6/dist-packages (from jupyter-client<7,>=6.1.3->voila) (5.1.1)\n",
            "Requirement already satisfied: python-dateutil>=2.1 in /usr/local/lib/python3.6/dist-packages (from jupyter-client<7,>=6.1.3->voila) (2.8.1)\n",
            "Requirement already satisfied: Send2Trash in /usr/local/lib/python3.6/dist-packages (from jupyter-server<2.0.0,>=0.3.0->voila) (1.5.0)\n",
            "Requirement already satisfied: terminado>=0.8.3 in /usr/local/lib/python3.6/dist-packages (from jupyter-server<2.0.0,>=0.3.0->voila) (0.9.2)\n",
            "Requirement already satisfied: ipython-genutils in /usr/local/lib/python3.6/dist-packages (from jupyter-server<2.0.0,>=0.3.0->voila) (0.2.0)\n",
            "Requirement already satisfied: prometheus-client in /usr/local/lib/python3.6/dist-packages (from jupyter-server<2.0.0,>=0.3.0->voila) (0.9.0)\n",
            "Collecting anyio>=2.0.2\n",
            "\u001b[?25l  Downloading https://files.pythonhosted.org/packages/d7/83/0585a2bafc0898a07f491a001520db9a7b1aaca2369f99590ff2bfe9067a/anyio-2.0.2-py3-none-any.whl (62kB)\n",
            "\u001b[K     |████████████████████████████████| 71kB 9.0MB/s \n",
            "\u001b[?25hRequirement already satisfied: jsonschema!=2.5.0,>=2.4 in /usr/local/lib/python3.6/dist-packages (from nbformat>=5.0->nbclient<0.6,>=0.4.0->voila) (2.6.0)\n",
            "Requirement already satisfied: six in /usr/local/lib/python3.6/dist-packages (from traitlets>=4.2->nbclient<0.6,>=0.4.0->voila) (1.15.0)\n",
            "Requirement already satisfied: decorator in /usr/local/lib/python3.6/dist-packages (from traitlets>=4.2->nbclient<0.6,>=0.4.0->voila) (4.4.2)\n",
            "Requirement already satisfied: packaging in /usr/local/lib/python3.6/dist-packages (from bleach->nbconvert<7,>=6.0.0->voila) (20.8)\n",
            "Requirement already satisfied: webencodings in /usr/local/lib/python3.6/dist-packages (from bleach->nbconvert<7,>=6.0.0->voila) (0.5.1)\n",
            "Requirement already satisfied: MarkupSafe>=0.23 in /usr/local/lib/python3.6/dist-packages (from jinja2>=2.4->nbconvert<7,>=6.0.0->voila) (1.1.1)\n",
            "Requirement already satisfied: ptyprocess; os_name != \"nt\" in /usr/local/lib/python3.6/dist-packages (from terminado>=0.8.3->jupyter-server<2.0.0,>=0.3.0->voila) (0.7.0)\n",
            "Requirement already satisfied: typing-extensions; python_version < \"3.8\" in /usr/local/lib/python3.6/dist-packages (from anyio>=2.0.2->jupyter-server<2.0.0,>=0.3.0->voila) (3.7.4.3)\n",
            "Requirement already satisfied: dataclasses; python_version < \"3.7\" in /usr/local/lib/python3.6/dist-packages (from anyio>=2.0.2->jupyter-server<2.0.0,>=0.3.0->voila) (0.8)\n",
            "Requirement already satisfied: idna>=2.8 in /usr/local/lib/python3.6/dist-packages (from anyio>=2.0.2->jupyter-server<2.0.0,>=0.3.0->voila) (2.10)\n",
            "Collecting sniffio>=1.1\n",
            "  Downloading https://files.pythonhosted.org/packages/52/b0/7b2e028b63d092804b6794595871f936aafa5e9322dcaaad50ebf67445b3/sniffio-1.2.0-py3-none-any.whl\n",
            "Requirement already satisfied: pyparsing>=2.0.2 in /usr/local/lib/python3.6/dist-packages (from packaging->bleach->nbconvert<7,>=6.0.0->voila) (2.4.7)\n",
            "Collecting contextvars>=2.1; python_version < \"3.7\"\n",
            "  Downloading https://files.pythonhosted.org/packages/83/96/55b82d9f13763be9d672622e1b8106c85acb83edd7cc2fa5bc67cd9877e9/contextvars-2.4.tar.gz\n",
            "Collecting immutables>=0.9\n",
            "\u001b[?25l  Downloading https://files.pythonhosted.org/packages/99/e0/ea6fd4697120327d26773b5a84853f897a68e33d3f9376b00a8ff96e4f63/immutables-0.14-cp36-cp36m-manylinux1_x86_64.whl (98kB)\n",
            "\u001b[K     |████████████████████████████████| 102kB 7.1MB/s \n",
            "\u001b[?25hBuilding wheels for collected packages: contextvars\n",
            "  Building wheel for contextvars (setup.py) ... \u001b[?25l\u001b[?25hdone\n",
            "  Created wheel for contextvars: filename=contextvars-2.4-cp36-none-any.whl size=7667 sha256=85fe29a8aa894ac7cc52d9fad62a954b031d3b822bbf0331aabc70772f1e18a8\n",
            "  Stored in directory: /root/.cache/pip/wheels/a5/7d/68/1ebae2668bda2228686e3c1cf16f2c2384cea6e9334ad5f6de\n",
            "Successfully built contextvars\n",
            "\u001b[31mERROR: nbdev 1.1.12 has requirement nbconvert<6, but you'll have nbconvert 6.0.7 which is incompatible.\u001b[0m\n",
            "\u001b[31mERROR: jupyter-server 1.2.2 has requirement tornado>=6.1.0, but you'll have tornado 5.1.1 which is incompatible.\u001b[0m\n",
            "Installing collected packages: nbconvert, jupyter-client, immutables, contextvars, sniffio, anyio, jupyter-server, voila\n",
            "  Found existing installation: nbconvert 5.6.1\n",
            "    Uninstalling nbconvert-5.6.1:\n",
            "      Successfully uninstalled nbconvert-5.6.1\n",
            "  Found existing installation: jupyter-client 5.3.5\n",
            "    Uninstalling jupyter-client-5.3.5:\n",
            "      Successfully uninstalled jupyter-client-5.3.5\n",
            "Successfully installed anyio-2.0.2 contextvars-2.4 immutables-0.14 jupyter-client-6.1.11 jupyter-server-1.2.2 nbconvert-6.0.7 sniffio-1.2.0 voila-0.2.6\n"
          ],
          "name": "stdout"
        },
        {
          "output_type": "display_data",
          "data": {
            "application/vnd.colab-display-data+json": {
              "pip_warning": {
                "packages": [
                  "jupyter_client",
                  "nbconvert"
                ]
              }
            }
          },
          "metadata": {
            "tags": []
          }
        },
        {
          "output_type": "stream",
          "text": [
            "Enabling: voila\n",
            "- Writing config: /usr/etc/jupyter\n",
            "    - Validating...\n",
            "Error loading server extension voila\n",
            "     \u001b[31m X\u001b[0m is voila importable?\n"
          ],
          "name": "stdout"
        }
      ]
    },
    {
      "cell_type": "markdown",
      "metadata": {
        "id": "Rb9N9Ax5oEjy"
      },
      "source": [
        "### Deploying your app"
      ]
    },
    {
      "cell_type": "markdown",
      "metadata": {
        "id": "Gztkw76ioEjy"
      },
      "source": [
        "For at least the initial prototype of your application, and for any hobby projects that you want to show off, you can easily host them for free. The best place and the best way to do this will vary over time, so check the [book's website](https://book.fast.ai/) for the most up-to-date recommendations. As we're writing this book in early 2020 the simplest (and free!) approach is to use [Binder](https://mybinder.org/). To publish your web app on Binder, you follow these steps:\n",
        "\n",
        "1. Add your notebook to a [GitHub repository](http://github.com/).\n",
        "2. Paste the URL of that repo into Binder's URL, as shown in <<deploy-binder>>.\n",
        "3. Change the File dropdown to instead select URL.\n",
        "4. In the \"URL to open\" field, enter `/voila/render/name.ipynb` (replacing `name` with the name of for your notebook).\n",
        "5. Click the clickboard button at the bottom right to copyt the URL and paste it somewhere safe. \n",
        "6. Click Launch."
      ]
    },
    {
      "cell_type": "markdown",
      "metadata": {
        "id": "Pn1JlGwcoEjy"
      },
      "source": [
        "<img alt=\"Deploying to Binder\" width=\"800\" caption=\"Deploying to Binder\" id=\"deploy-binder\" src=\"https://github.com/fastai/fastbook/blob/master/images/att_00001.png?raw=1\">"
      ]
    },
    {
      "cell_type": "markdown",
      "metadata": {
        "id": "kVlzq6YGoEjz"
      },
      "source": [
        "The first time you do this, Binder will take around 5 minutes to build your site. Behind the scenes, it is finding a virtual machine that can run your app, allocating storage, collecting the files needed for Jupyter, for your notebook, and for presenting your notebook as a web application.\n",
        "\n",
        "Finally, once it has started the app running, it will navigate your browser to your new web app. You can share the URL you copied to allow others to access your app as well.\n",
        "\n",
        "For other (both free and paid) options for deploying your web app, be sure to take a look at the [book's website](https://book.fast.ai/)."
      ]
    },
    {
      "cell_type": "markdown",
      "metadata": {
        "id": "gqXnwmkEoEjz"
      },
      "source": [
        "You may well want to deploy your application onto mobile devices, or edge devices such as a Raspberry Pi. There are a lot of libraries and frameworks that allow you to integrate a model directly into a mobile application. However, these approaches tend to require a lot of extra steps and boilerplate, and do not always support all the PyTorch and fastai layers that your model might use. In addition, the work you do will depend on what kind of mobile devices you are targeting for deployment—you might need to do some work to run on iOS devices, different work to run on newer Android devices, different work for older Android devices, etc. Instead, we recommend wherever possible that you deploy the model itself to a server, and have your mobile or edge application connect to it as a web service.\n",
        "\n",
        "There are quite a few upsides to this approach. The initial installation is easier, because you only have to deploy a small GUI application, which connects to the server to do all the heavy lifting. More importantly perhaps, upgrades of that core logic can happen on your server, rather than needing to be distributed to all of your users. Your server will have a lot more memory and processing capacity than most edge devices, and it is far easier to scale those resources if your model becomes more demanding. The hardware that you will have on a server is also going to be more standard and more easily supported by fastai and PyTorch, so you don't have to compile your model into a different form.\n",
        "\n",
        "There are downsides too, of course. Your application will require a network connection, and there will be some latency each time the model is called. (It takes a while for a neural network model to run anyway, so this additional network latency may not make a big difference to your users in practice. In fact, since you can use better hardware on the server, the overall latency may even be less than if it were running locally!) Also, if your application uses sensitive data then your users may be concerned about an approach which sends that data to a remote server, so sometimes privacy considerations will mean that you need to run the model on the edge device (it may be possible to avoid this by having an *on-premise* server, such as inside a company's firewall). Managing the complexity and scaling the server can create additional overhead too, whereas if your model runs on the edge devices then each user is bringing their own compute resources, which leads to easier scaling with an increasing number of users (also known as *horizontal scaling*)."
      ]
    },
    {
      "cell_type": "markdown",
      "metadata": {
        "id": "pMX-h7dVoEjz"
      },
      "source": [
        "> A: I've had a chance to see up close how the mobile ML landscape is changing in my work. We offer an iPhone app that depends on computer vision, and for years we ran our own computer vision models in the cloud. This was the only way to do it then since those models needed significant memory and compute resources and took minutes to process inputs. This approach required building not only the models (fun!) but also the infrastructure to ensure a certain number of \"compute worker machines\" were absolutely always running (scary), that more machines would automatically come online if traffic increased, that there was stable storage for large inputs and outputs, that the iOS app could know and tell the user how their job was doing, etc. Nowadays Apple provides APIs for converting models to run efficiently on device and most iOS devices have dedicated ML hardware, so that's the strategy we use for our newer models. It's still not easy but in our case it's worth it, for a faster user experience and to worry less about servers. What works for you will depend, realistically, on the user experience you're trying to create and what you personally find is easy to do. If you really know how to run servers, do it. If you really know how to build native mobile apps, do that. There are many roads up the hill.\n",
        "\n",
        "Overall, we'd recommend using a simple CPU-based server approach where possible, for as long as you can get away with it. If you're lucky enough to have a very successful application, then you'll be able to justify the investment in more complex deployment approaches at that time.\n",
        "\n",
        "Congratulations, you have successfully built a deep learning model and deployed it! Now is a good time to take a pause and think about what could go wrong."
      ]
    },
    {
      "cell_type": "markdown",
      "metadata": {
        "id": "m3TC2R2doEjz"
      },
      "source": [
        "## How to Avoid Disaster"
      ]
    },
    {
      "cell_type": "markdown",
      "metadata": {
        "id": "egRf7uR_oEjz"
      },
      "source": [
        "In practice, a deep learning model will be just one piece of a much bigger system. As we discussed at the start of this chapter, a data product requires thinking about the entire end-to-end process, from conception to use in production. In this book, we can't hope to cover all the complexity of managing deployed data products, such as managing multiple versions of models, A/B testing, canarying, refreshing the data (should we just grow and grow our datasets all the time, or should we regularly remove some of the old data?), handling data labeling, monitoring all this, detecting model rot, and so forth. In this section we will give an overview of some of the most important issues to consider; for a more detailed discussion of deployment issues we refer to you to the excellent [Building Machine Learning Powered Applications](http://shop.oreilly.com/product/0636920215912.do) by Emmanuel Ameisen (O'Reilly)\n",
        "\n",
        "One of the biggest issues to consider is that understanding and testing the behavior of a deep learning model is much more difficult than with most other code you write. With normal software development you can analyze the exact steps that the software is taking, and carefully study which of these steps match the desired behavior that you are trying to create. But with a neural network the behavior emerges from the model's attempt to match the training data, rather than being exactly defined.\n",
        "\n",
        "This can result in disaster! For instance, let's say we really were rolling out a bear detection system that will be attached to video cameras around campsites in national parks, and will warn campers of incoming bears. If we used a model trained with the dataset we downloaded there would be all kinds of problems in practice, such as:\n",
        "\n",
        "- Working with video data instead of images\n",
        "- Handling nighttime images, which may not appear in this dataset\n",
        "- Dealing with low-resolution camera images\n",
        "- Ensuring results are returned fast enough to be useful in practice\n",
        "- Recognizing bears in positions that are rarely seen in photos that people post online (for example from behind, partially covered by bushes, or when a long way away from the camera)"
      ]
    },
    {
      "cell_type": "markdown",
      "metadata": {
        "id": "NGX6Z97XoEj0"
      },
      "source": [
        "A big part of the issue is that the kinds of photos that people are most likely to upload to the internet are the kinds of photos that do a good job of clearly and artistically displaying their subject matter—which isn't the kind of input this system is going to be getting. So, we may need to do a lot of our own data collection and labelling to create a useful system.\n",
        "\n",
        "This is just one example of the more general problem of *out-of-domain* data. That is to say, there may be data that our model sees in production which is very different to what it saw during training. There isn't really a complete technical solution to this problem; instead, we have to be careful about our approach to rolling out the technology.\n",
        "\n",
        "There are other reasons we need to be careful too. One very common problem is *domain shift*, where the type of data that our model sees changes over time. For instance, an insurance company may use a deep learning model as part of its pricing and risk algorithm, but over time the types of customers that the company attracts, and the types of risks they represent, may change so much that the original training data is no longer relevant.\n",
        "\n",
        "Out-of-domain data and domain shift are examples of a larger problem: that you can never fully understand the entire behaviour of your neural network. They have far too many parameters to be able to analytically understand all of their possible behaviors. This is the natural downside of their best feature—their flexibility, which enables them to solve complex problems where we may not even be able to fully specify our preferred solution approaches. The good news, however, is that there are ways to mitigate these risks using a carefully thought-out process. The details of this will vary depending on the details of the problem you are solving, but we will attempt to lay out here a high-level approach, summarized in <<deploy_process>>, which we hope will provide useful guidance."
      ]
    },
    {
      "cell_type": "markdown",
      "metadata": {
        "id": "L6GJ9IdAoEj0"
      },
      "source": [
        "<img alt=\"Deployment process\" width=\"500\" caption=\"Deployment process\" id=\"deploy_process\" src=\"https://github.com/fastai/fastbook/blob/master/images/att_00061.png?raw=1\">"
      ]
    },
    {
      "cell_type": "markdown",
      "metadata": {
        "id": "PeBuJtQhoEj0"
      },
      "source": [
        "Where possible, the first step is to use an entirely manual process, with your deep learning model approach running in parallel but not being used directly to drive any actions. The humans involved in the manual process should look at the deep learning outputs and check whether they make sense. For instance, with our bear classifier a park ranger could have a screen displaying video feeds from all the cameras, with any possible bear sightings simply highlighted in red. The park ranger would still be expected to be just as alert as before the model was deployed; the model is simply helping to check for problems at this point.\n",
        "\n",
        "The second step is to try to limit the scope of the model, and have it carefully supervised by people. For instance, do a small geographically and time-constrained trial of the model-driven approach. Rather than rolling our bear classifier out in every national park throughout the country, we could pick a single observation post, for a one-week period, and have a park ranger check each alert before it goes out.\n",
        "\n",
        "Then, gradually increase the scope of your rollout. As you do so, ensure that you have really good reporting systems in place, to make sure that you are aware of any significant changes to the actions being taken compared to your manual process. For instance, if the number of bear alerts doubles or halves after rollout of the new system in some location, we should be very concerned. Try to think about all the ways in which your system could go wrong, and then think about what measure or report or picture could reflect that problem, and ensure that your regular reporting includes that information."
      ]
    },
    {
      "cell_type": "markdown",
      "metadata": {
        "id": "T2unkV9QoEj0"
      },
      "source": [
        "> J: I started a company 20 years ago called _Optimal Decisions_ that used machine learning and optimization to help giant insurance companies set their pricing, impacting tens of billions of dollars of risks. We used the approaches described here to manage the potential downsides of something going wrong. Also, before we worked with our clients to put anything in production, we tried to simulate the impact by testing the end-to-end system on their previous year's data. It was always quite a nerve-wracking process, putting these new algorithms into production, but every rollout was successful."
      ]
    },
    {
      "cell_type": "markdown",
      "metadata": {
        "id": "li7MlVouoEj1"
      },
      "source": [
        "### Unforeseen Consequences and Feedback Loops"
      ]
    },
    {
      "cell_type": "markdown",
      "metadata": {
        "id": "xopYNoMpoEj1"
      },
      "source": [
        "One of the biggest challenges in rolling out a model is that your model may change the behaviour of the system it is a part of. For instance, consider a \"predictive policing\" algorithm that predicts more crime in certain neighborhoods, causing more police officers to be sent to those neighborhoods, which can result in more crimes being recorded in those neighborhoods, and so on. In the Royal Statistical Society paper [\"To Predict and Serve?\"](https://rss.onlinelibrary.wiley.com/doi/full/10.1111/j.1740-9713.2016.00960.x), Kristian Lum and William Isaac observe that: \"predictive policing is aptly named: it is predicting future policing, not future crime.\"\n",
        "\n",
        "Part of the issue in this case is that in the presence of bias (which we'll discuss in depth in the next chapter), *feedback loops* can result in negative implications of that bias getting worse and worse. For instance, there are concerns that this is already happening in the US, where there is significant bias in arrest rates on racial grounds. [According to the ACLU](https://www.aclu.org/issues/smart-justice/sentencing-reform/war-marijuana-black-and-white), \"despite roughly equal usage rates, Blacks are 3.73 times more likely than whites to be arrested for marijuana.\" The impact of this bias, along with the rollout of predictive policing algorithms in many parts of the US, led Bärí Williams to [write in the *New York Times*](https://www.nytimes.com/2017/12/02/opinion/sunday/intelligent-policing-and-my-innocent-children.html): \"The same technology that’s the source of so much excitement in my career is being used in law enforcement in ways that could mean that in the coming years, my son, who is 7 now, is more likely to be profiled or arrested—or worse—for no reason other than his race and where we live.\"\n",
        "\n",
        "A helpful exercise prior to rolling out a significant machine learning system is to consider this question: \"What would happen if it went really, really well?\" In other words, what if the predictive power was extremely high, and its ability to influence behavior was extremely significant? In that case, who would be most impacted? What would the most extreme results potentially look like? How would you know what was really going on?\n",
        "\n",
        "Such a thought exercise might help you to construct a more careful rollout plan, with ongoing monitoring systems and human oversight. Of course, human oversight isn't useful if it isn't listened to, so make sure that there are reliable and resilient communication channels so that the right people will be aware of issues, and will have the power to fix them."
      ]
    },
    {
      "cell_type": "markdown",
      "metadata": {
        "id": "cBW1dpf5oEj1"
      },
      "source": [
        "## Get Writing!"
      ]
    },
    {
      "cell_type": "markdown",
      "metadata": {
        "id": "-oaD0RgNoEj1"
      },
      "source": [
        "One of the things our students have found most helpful to solidify their understanding of this material is to write it down. There is no better test of your understanding of a topic than attempting to teach it to somebody else. This is helpful even if you never show your writing to anybody—but it's even better if you share it! So we recommend that, if you haven't already, you start a blog. Now that you've completed Chapter 2 and have learned how to train and deploy models, you're well placed to write your first blog post about your deep learning journey. What's surprised you? What opportunities do you see for deep learning in your field? What obstacles do you see?\n",
        "\n",
        "Rachel Thomas, cofounder of fast.ai, wrote in the article [\"Why You (Yes, You) Should Blog\"](https://medium.com/@racheltho/why-you-yes-you-should-blog-7d2544ac1045):\n",
        "\n",
        "```asciidoc\n",
        "____\n",
        "The top advice I would give my younger self would be to start blogging sooner. Here are some reasons to blog:\n",
        "\n",
        "* It’s like a resume, only better. I know of a few people who have had blog posts lead to job offers!\n",
        "* Helps you learn. Organizing knowledge always helps me synthesize my own ideas. One of the tests of whether you understand something is whether you can explain it to someone else. A blog post is a great way to do that.\n",
        "* I’ve gotten invitations to conferences and invitations to speak from my blog posts. I was invited to the TensorFlow Dev Summit (which was awesome!) for writing a blog post about how I don’t like TensorFlow.\n",
        "* Meet new people. I’ve met several people who have responded to blog posts I wrote.\n",
        "* Saves time. Any time you answer a question multiple times through email, you should turn it into a blog post, which makes it easier for you to share the next time someone asks.\n",
        "____\n",
        "```\n",
        "\n",
        "Perhaps her most important tip is this: \n",
        "\n",
        "> : You are best positioned to help people one step behind you. The material is still fresh in your mind. Many experts have forgotten what it was like to be a beginner (or an intermediate) and have forgotten why the topic is hard to understand when you first hear it. The context of your particular background, your particular style, and your knowledge level will give a different twist to what you’re writing about.\n",
        "\n",
        "We've provided full details on how to set up a blog in <<appendix_blog>>. If you don't have a blog already, take a look at that now, because we've got a really great approach set up for you to start blogging for free, with no ads—and you can even use Jupyter Notebook!"
      ]
    },
    {
      "cell_type": "markdown",
      "metadata": {
        "id": "OEGTtKZ9oEj2"
      },
      "source": [
        "## Questionnaire"
      ]
    },
    {
      "cell_type": "markdown",
      "metadata": {
        "id": "Ib6WB5oCoEj2"
      },
      "source": [
        "1. Provide an example of where the bear classification model might work poorly in production, due to structural or style differences in the training data.\n",
        "1. Where do text models currently have a major deficiency?\n",
        "1. What are possible negative societal implications of text generation models?\n",
        "1. In situations where a model might make mistakes, and those mistakes could be harmful, what is a good alternative to automating a process?\n",
        "1. What kind of tabular data is deep learning particularly good at?\n",
        "1. What's a key downside of directly using a deep learning model for recommendation systems?\n",
        "1. What are the steps of the Drivetrain Approach?\n",
        "1. How do the steps of the Drivetrain Approach map to a recommendation system?\n",
        "1. Create an image recognition model using data you curate, and deploy it on the web.\n",
        "1. What is `DataLoaders`?\n",
        "1. What four things do we need to tell fastai to create `DataLoaders`?\n",
        "1. What does the `splitter` parameter to `DataBlock` do?\n",
        "1. How do we ensure a random split always gives the same validation set?\n",
        "1. What letters are often used to signify the independent and dependent variables?\n",
        "1. What's the difference between the crop, pad, and squish resize approaches? When might you choose one over the others?\n",
        "1. What is data augmentation? Why is it needed?\n",
        "1. What is the difference between `item_tfms` and `batch_tfms`?\n",
        "1. What is a confusion matrix?\n",
        "1. What does `export` save?\n",
        "1. What is it called when we use a model for getting predictions, instead of training?\n",
        "1. What are IPython widgets?\n",
        "1. When might you want to use CPU for deployment? When might GPU be better?\n",
        "1. What are the downsides of deploying your app to a server, instead of to a client (or edge) device such as a phone or PC?\n",
        "1. What are three examples of problems that could occur when rolling out a bear warning system in practice?\n",
        "1. What is \"out-of-domain data\"?\n",
        "1. What is \"domain shift\"?\n",
        "1. What are the three steps in the deployment process?"
      ]
    },
    {
      "cell_type": "markdown",
      "metadata": {
        "id": "uAhFwpahoEj2"
      },
      "source": [
        "### Further Research"
      ]
    },
    {
      "cell_type": "markdown",
      "metadata": {
        "id": "E_ugxObeoEj3"
      },
      "source": [
        "1. Consider how the Drivetrain Approach maps to a project or problem you're interested in.\n",
        "1. When might it be best to avoid certain types of data augmentation?\n",
        "1. For a project you're interested in applying deep learning to, consider the thought experiment \"What would happen if it went really, really well?\"\n",
        "1. Start a blog, and write your first blog post. For instance, write about what you think deep learning might be useful for in a domain you're interested in."
      ]
    },
    {
      "cell_type": "code",
      "metadata": {
        "id": "0k1S_FHaoEj3"
      },
      "source": [
        ""
      ],
      "execution_count": null,
      "outputs": []
    }
  ]
}