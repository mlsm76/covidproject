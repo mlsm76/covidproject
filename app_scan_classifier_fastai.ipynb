{
  "nbformat": 4,
  "nbformat_minor": 0,
  "metadata": {
    "jupytext": {
      "split_at_heading": true
    },
    "kernelspec": {
      "display_name": "Python 3",
      "language": "python",
      "name": "python3"
    },
    "colab": {
      "name": "app-scan-classifier-fastai.ipynb",
      "provenance": [],
      "toc_visible": true,
      "machine_shape": "hm"
    },
    "accelerator": "GPU"
  },
  "cells": [
    {
      "cell_type": "code",
      "metadata": {
        "id": "eEO1g98YoEjC"
      },
      "source": [
        "#hide\n",
        "from fastbook import *\n",
        "from fastai2.vision.widgets import *"
      ],
      "execution_count": null,
      "outputs": []
    },
    {
      "cell_type": "markdown",
      "metadata": {
        "id": "B5_tfjNvoEjE"
      },
      "source": [
        "## Covid Lung Scan Diagnosis Tool\r\n",
        "\r\n",
        "These predictions should not be a final say in any particular diagnosis, but should indicate that a patient is needing of further tests and/or observances"
      ]
    },
    {
      "cell_type": "code",
      "metadata": {
        "id": "-l1qm85poEjq"
      },
      "source": [
        "path = Path('/content/gdrive/MyDrive/deeplearning/covid-scans/torch')\r\n",
        "learn_inf = load_learner('export.pkl')\r\n",
        "btn_upload = widgets.FileUpload()\r\n",
        "out_pl = widgets.Output()\r\n",
        "lbl_pred = widgets.Label()"
      ],
      "execution_count": null,
      "outputs": []
    },
    {
      "cell_type": "code",
      "metadata": {
        "id": "O279onEZoEjw"
      },
      "source": [
        "def on_click_classify(change):\n",
        "    img = PILImage.create(btn_upload.data[-1])\n",
        "    out_pl.clear_output()\n",
        "    with out_pl: display(img.to_thumb(128,128))\n",
        "    pred,pred_idx,probs = learn_inf.predict(img)\n",
        "    lbl_pred.value = f'Prediction: {pred}; Probability: {probs[pred_idx]:.04f}'"
      ],
      "execution_count": 1,
      "outputs": []
    },
    {
      "cell_type": "code",
      "metadata": {
        "id": "TDl--9G9Lzcz"
      },
      "source": [
        "btn_upload.observe(on_click, names={'data'})"
      ],
      "execution_count": null,
      "outputs": []
    },
    {
      "cell_type": "code",
      "metadata": {
        "id": "PqvwAM7QoEjw"
      },
      "source": [
        "#hide_output\n",
        "display(VBox([widgets.Label('Select your lung scan'), \n",
        "      btn_upload, btn_run, out_pl, lbl_pred]))"
      ],
      "execution_count": null,
      "outputs": []
    }
  ]
}